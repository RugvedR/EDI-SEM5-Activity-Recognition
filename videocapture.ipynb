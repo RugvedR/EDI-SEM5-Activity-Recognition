{
 "cells": [
  {
   "cell_type": "code",
   "execution_count": 5,
   "id": "514e2340",
   "metadata": {},
   "outputs": [],
   "source": [
    "import cv2\n",
    "import matplotlib.pyplot as plt"
   ]
  },
  {
   "cell_type": "code",
   "execution_count": 24,
   "id": "33b4a8c5",
   "metadata": {},
   "outputs": [],
   "source": [
    "# cam_port = 0\n",
    "# cam = cv2.VideoCapture(cam_port)"
   ]
  },
  {
   "cell_type": "code",
   "execution_count": 25,
   "id": "b78494f2",
   "metadata": {},
   "outputs": [],
   "source": [
    "# result, image = cam.read()"
   ]
  },
  {
   "cell_type": "code",
   "execution_count": 26,
   "id": "79c79954",
   "metadata": {},
   "outputs": [],
   "source": [
    "# if result:\n",
    "  \n",
    "#     # showing result, it take frame name and image \n",
    "#     # output\n",
    "#     cv2.imshow(\"myimage\", image)\n",
    "  \n",
    "#     # saving image in local storage\n",
    "#     cv2.imwrite(\"myimage.jpg\", image)\n",
    "  \n",
    "#     # If keyboard interrupt occurs, destroy image \n",
    "#     # window\n",
    "#     cv2.waitKey(0)\n",
    "#     cv2.destroyWindow(\"GeeksForGeeks\")\n",
    "  \n",
    "# # If captured image is corrupted, moving to else part\n",
    "# else:\n",
    "#     print(\"No image detected. Please! try again\")"
   ]
  },
  {
   "cell_type": "code",
   "execution_count": 27,
   "id": "4e7096bf",
   "metadata": {},
   "outputs": [],
   "source": [
    "#  cam.release()"
   ]
  },
  {
   "cell_type": "code",
   "execution_count": 28,
   "id": "d6972148",
   "metadata": {},
   "outputs": [],
   "source": []
  },
  {
   "cell_type": "code",
   "execution_count": 35,
   "id": "f57b6ad6",
   "metadata": {},
   "outputs": [],
   "source": [
    "import cv2\n",
    "import os\n",
    "\n",
    "\n",
    "def save_frame_camera_key(device_num, dir_path, basename, ext='jpg', delay=1, window_name='frame'):\n",
    "    cap = cv2.VideoCapture(device_num)\n",
    "\n",
    "    if not cap.isOpened():\n",
    "        return\n",
    "\n",
    "    os.makedirs(dir_path, exist_ok=True)\n",
    "    base_path = os.path.join(dir_path, basename)\n",
    "\n",
    "    n = 0\n",
    "    prediction = ' '\n",
    "    while True:\n",
    "        ret, frame = cap.read()\n",
    "        \n",
    "        text_on_video = 'frame captured: {}, prediction: {}'.format(n,prediction)\n",
    "        font = cv2.FONT_HERSHEY_SIMPLEX\n",
    "        cv2.putText(frame, text_on_video, (50, 50), font, 1, (0, 255, 255), 2)\n",
    "        \n",
    "        cv2.imshow(window_name, frame)\n",
    "        key = cv2.waitKey(delay) & 0xFF\n",
    "        \n",
    "        \n",
    "        if key == ord('c'):\n",
    "            cv2.imwrite('{}_{}.{}'.format(base_path, n, ext), frame)\n",
    "            cv2.putText(frame, 'something', (50, 50), font, 1, (0, 255, 255), 2, cv2.LINE_4)\n",
    "            n += 1\n",
    "        elif key == ord('q'):\n",
    "            break\n",
    "\n",
    "    cv2.destroyWindow(window_name)\n",
    "\n",
    "\n",
    "save_frame_camera_key(0, 'temp', 'camera_capture')"
   ]
  }
 ],
 "metadata": {
  "kernelspec": {
   "display_name": "Python 3",
   "language": "python",
   "name": "python3"
  },
  "language_info": {
   "codemirror_mode": {
    "name": "ipython",
    "version": 3
   },
   "file_extension": ".py",
   "mimetype": "text/x-python",
   "name": "python",
   "nbconvert_exporter": "python",
   "pygments_lexer": "ipython3",
   "version": "3.8.8"
  }
 },
 "nbformat": 4,
 "nbformat_minor": 5
}
