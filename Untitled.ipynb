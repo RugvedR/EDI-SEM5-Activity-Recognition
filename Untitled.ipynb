{
 "cells": [
  {
   "cell_type": "code",
   "execution_count": 2,
   "id": "5e4a1407",
   "metadata": {},
   "outputs": [],
   "source": [
    "import numpy as np\n",
    "import pandas as pd                               \n",
    "import os\n",
    "import csv\n",
    "import cv2\n",
    "import matplotlib.pyplot as plt\n",
    "from sklearn.cluster import KMeans\n",
    "from sklearn.model_selection import train_test_split\n",
    "from sklearn import svm, datasets\n",
    "from sklearn.metrics import classification_report\n",
    "from sklearn.tree import DecisionTreeClassifier\n",
    "import sklearn.metrics as metrics\n",
    "from sklearn.metrics import accuracy_score\n",
    "import joblib"
   ]
  },
  {
   "cell_type": "code",
   "execution_count": 6,
   "id": "20fec45f",
   "metadata": {},
   "outputs": [],
   "source": [
    "#Path of dataset\n",
    "folder1=r\"C:\\Users\\rugve\\edi_sem5_new_2class\\Activity Recognition\\Chit chat\"\n",
    "# folder2=r\"C:\\Users\\rugve\\edi_sem5\\Activity Recognition Dataset\\Recreation\"\n",
    "folder3=r\"C:\\Users\\rugve\\edi_sem5_new_2class\\Activity Recognition\\Studying\""
   ]
  },
  {
   "cell_type": "code",
   "execution_count": 7,
   "id": "cdd3cfa2",
   "metadata": {},
   "outputs": [],
   "source": [
    "folder =r\"C:\\Users\\rugve\\edi_sem5_new_2class\\Activity Recognition\\Studying\"\n",
    "for count, filename in enumerate(os.listdir(folder)):\n",
    "    dst = f\"tStudy_{str(count)}.jpg\"\n",
    "    src =f\"{folder}/{filename}\"  # foldername/filename, if .py file is outside folder\n",
    "    dst =f\"{folder}/{dst}\"\n",
    "    \n",
    "    # rename() function will\n",
    "    # rename all the files\n",
    "    os.rename(src, dst)\n"
   ]
  },
  {
   "cell_type": "code",
   "execution_count": 8,
   "id": "2416a1cb",
   "metadata": {},
   "outputs": [],
   "source": [
    "folder = r\"C:\\Users\\rugve\\edi_sem5_new_2class\\Activity Recognition\\Chit chat\"\n",
    "for count, filename in enumerate(os.listdir(folder)):\n",
    "    dst = f\"dchit_chat_{str(count)}.jpg\"\n",
    "    src =f\"{folder}/{filename}\"  # foldername/filename, if .py file is outside folder\n",
    "    dst =f\"{folder}/{dst}\"\n",
    "    \n",
    "    # rename() function will\n",
    "    # rename all the files\n",
    "    os.rename(src, dst)"
   ]
  },
  {
   "cell_type": "code",
   "execution_count": null,
   "id": "8654b15b",
   "metadata": {},
   "outputs": [],
   "source": []
  }
 ],
 "metadata": {
  "kernelspec": {
   "display_name": "Python 3",
   "language": "python",
   "name": "python3"
  },
  "language_info": {
   "codemirror_mode": {
    "name": "ipython",
    "version": 3
   },
   "file_extension": ".py",
   "mimetype": "text/x-python",
   "name": "python",
   "nbconvert_exporter": "python",
   "pygments_lexer": "ipython3",
   "version": "3.8.8"
  }
 },
 "nbformat": 4,
 "nbformat_minor": 5
}
